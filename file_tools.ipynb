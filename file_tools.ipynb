{
 "cells": [
  {
   "cell_type": "code",
   "execution_count": null,
   "id": "c02a1a60-c78e-483a-a867-9f3078a53733",
   "metadata": {
    "tags": []
   },
   "outputs": [],
   "source": [
    "from tqdm import tqdm\n",
    "for i in tqdm(range(10)):\n",
    "    for j in range(6):\n",
    "        if i == 9:\n",
    "            file_name = '10-' + str(0) + str(j+1)\n",
    "        else:\n",
    "            file_name = '0' + str(i+1) + '-' + str(0) + str(j+1)\n",
    "        if i == 5 and j == 1:\n",
    "            continue\n",
    "\n",
    "        zip_path = \"PURE/\" + file_name + '.zip'\n",
    "        !mkdir pure_reorg/{file_name}/\n",
    "        !unzip {zip_path} -d pure_reorg/{file_name}/\n",
    "         "
   ]
  },
  {
   "cell_type": "code",
   "execution_count": 6,
   "id": "cdfb592a-3552-438e-a237-efe01b1b0a72",
   "metadata": {
    "tags": []
   },
   "outputs": [],
   "source": [
    "!cp -r ./pure_reorg/01-04 pure_test"
   ]
  },
  {
   "cell_type": "code",
   "execution_count": 5,
   "id": "222adb55-39db-4c18-9658-9aecbb509ab7",
   "metadata": {
    "tags": []
   },
   "outputs": [],
   "source": [
    "!cp -r ./pure_reorg/04-04 toy_pure_ubfc_rppg"
   ]
  },
  {
   "cell_type": "code",
   "execution_count": 1,
   "id": "adb981b0-c2c2-4f3e-a49a-3fbbba6ef668",
   "metadata": {
    "tags": []
   },
   "outputs": [
    {
     "name": "stdout",
     "output_type": "stream",
     "text": [
      "训练集大小: 41\n",
      "测试集大小: 11\n",
      "验证集大小: 7\n"
     ]
    }
   ],
   "source": [
    "import random\n",
    "\n",
    "# 生成59个连续整数\n",
    "data = list(range(1, 60))\n",
    "\n",
    "# 随机打乱数据\n",
    "random.shuffle(data)\n",
    "\n",
    "# 计算训练集、测试集和验证集的大小\n",
    "train_size = int(len(data) * 0.7)\n",
    "test_size = int(len(data) * 0.2)\n",
    "valid_size = len(data) - train_size - test_size\n",
    "\n",
    "# 将数据分为训练集、测试集和验证集\n",
    "train_data = data[:train_size]\n",
    "test_data = data[train_size:train_size + test_size]\n",
    "valid_data = data[train_size + test_size:]\n",
    "\n",
    "# 打印结果\n",
    "print(\"训练集大小:\", len(train_data))\n",
    "print(\"测试集大小:\", len(test_data))\n",
    "print(\"验证集大小:\", len(valid_data))\n"
   ]
  },
  {
   "cell_type": "code",
   "execution_count": 2,
   "id": "0c3c5ab6-abb0-4c3c-a33b-2e2d348da1be",
   "metadata": {
    "tags": []
   },
   "outputs": [
    {
     "name": "stdout",
     "output_type": "stream",
     "text": [
      "train data\n",
      "执行命令： !cp -r ./pure_reorg/09-06 PURE_SPLIT/train\n",
      "执行命令： !cp -r ./pure_reorg/04-04 PURE_SPLIT/train\n",
      "执行命令： !cp -r ./pure_reorg/08-02 PURE_SPLIT/train\n",
      "执行命令： !cp -r ./pure_reorg/01-02 PURE_SPLIT/train\n",
      "执行命令： !cp -r ./pure_reorg/10-01 PURE_SPLIT/train\n",
      "执行命令： !cp -r ./pure_reorg/10-04 PURE_SPLIT/train\n",
      "执行命令： !cp -r ./pure_reorg/01-03 PURE_SPLIT/train\n",
      "执行命令： !cp -r ./pure_reorg/06-01 PURE_SPLIT/train\n",
      "执行命令： !cp -r ./pure_reorg/03-01 PURE_SPLIT/train\n",
      "执行命令： !cp -r ./pure_reorg/08-05 PURE_SPLIT/train\n",
      "执行命令： !cp -r ./pure_reorg/02-06 PURE_SPLIT/train\n",
      "执行命令： !cp -r ./pure_reorg/06-04 PURE_SPLIT/train\n",
      "执行命令： !cp -r ./pure_reorg/10-03 PURE_SPLIT/train\n",
      "执行命令： !cp -r ./pure_reorg/07-05 PURE_SPLIT/train\n",
      "执行命令： !cp -r ./pure_reorg/02-05 PURE_SPLIT/train\n",
      "执行命令： !cp -r ./pure_reorg/09-02 PURE_SPLIT/train\n",
      "执行命令： !cp -r ./pure_reorg/02-03 PURE_SPLIT/train\n",
      "执行命令： !cp -r ./pure_reorg/03-03 PURE_SPLIT/train\n",
      "执行命令： !cp -r ./pure_reorg/03-04 PURE_SPLIT/train\n",
      "执行命令： !cp -r ./pure_reorg/01-04 PURE_SPLIT/train\n",
      "执行命令： !cp -r ./pure_reorg/05-02 PURE_SPLIT/train\n",
      "执行命令： !cp -r ./pure_reorg/05-04 PURE_SPLIT/train\n",
      "执行命令： !cp -r ./pure_reorg/09-04 PURE_SPLIT/train\n",
      "执行命令： !cp -r ./pure_reorg/07-06 PURE_SPLIT/train\n",
      "执行命令： !cp -r ./pure_reorg/08-01 PURE_SPLIT/train\n",
      "执行命令： !cp -r ./pure_reorg/04-03 PURE_SPLIT/train\n",
      "执行命令： !cp -r ./pure_reorg/07-02 PURE_SPLIT/train\n",
      "执行命令： !cp -r ./pure_reorg/08-04 PURE_SPLIT/train\n",
      "执行命令： !cp -r ./pure_reorg/05-06 PURE_SPLIT/train\n",
      "执行命令： !cp -r ./pure_reorg/04-01 PURE_SPLIT/train\n",
      "执行命令： !cp -r ./pure_reorg/09-03 PURE_SPLIT/train\n",
      "执行命令： !cp -r ./pure_reorg/08-03 PURE_SPLIT/train\n",
      "执行命令： !cp -r ./pure_reorg/01-06 PURE_SPLIT/train\n",
      "执行命令： !cp -r ./pure_reorg/06-03 PURE_SPLIT/train\n",
      "执行命令： !cp -r ./pure_reorg/01-05 PURE_SPLIT/train\n",
      "执行命令： !cp -r ./pure_reorg/09-05 PURE_SPLIT/train\n",
      "执行命令： !cp -r ./pure_reorg/07-01 PURE_SPLIT/train\n",
      "执行命令： !cp -r ./pure_reorg/03-06 PURE_SPLIT/train\n",
      "执行命令： !cp -r ./pure_reorg/10-02 PURE_SPLIT/train\n",
      "执行命令： !cp -r ./pure_reorg/02-04 PURE_SPLIT/train\n",
      "test data\n",
      "执行命令： !cp -r ./pure_reorg/10-06 PURE_SPLIT/test\n",
      "执行命令： !cp -r ./pure_reorg/08-06 PURE_SPLIT/test\n",
      "执行命令： !cp -r ./pure_reorg/10-05 PURE_SPLIT/test\n",
      "执行命令： !cp -r ./pure_reorg/02-01 PURE_SPLIT/test\n",
      "执行命令： !cp -r ./pure_reorg/07-03 PURE_SPLIT/test\n",
      "执行命令： !cp -r ./pure_reorg/05-01 PURE_SPLIT/test\n",
      "执行命令： !cp -r ./pure_reorg/03-05 PURE_SPLIT/test\n",
      "执行命令： !cp -r ./pure_reorg/07-04 PURE_SPLIT/test\n",
      "执行命令： !cp -r ./pure_reorg/05-05 PURE_SPLIT/test\n",
      "执行命令： !cp -r ./pure_reorg/04-02 PURE_SPLIT/test\n",
      "执行命令： !cp -r ./pure_reorg/04-06 PURE_SPLIT/test\n",
      "valid data\n",
      "执行命令： !cp -r ./pure_reorg/05-03 PURE_SPLIT/valid\n",
      "执行命令： !cp -r ./pure_reorg/03-02 PURE_SPLIT/valid\n",
      "执行命令： !cp -r ./pure_reorg/02-02 PURE_SPLIT/valid\n",
      "执行命令： !cp -r ./pure_reorg/06-05 PURE_SPLIT/valid\n",
      "执行命令： !cp -r ./pure_reorg/09-01 PURE_SPLIT/valid\n",
      "执行命令： !cp -r ./pure_reorg/04-05 PURE_SPLIT/valid\n",
      "执行命令： !cp -r ./pure_reorg/06-06 PURE_SPLIT/valid\n"
     ]
    }
   ],
   "source": [
    "print('train data')\n",
    "for i in train_data:\n",
    "    if i // 6 == 9:\n",
    "        file_id = '10-' + '0' + str(i % 6 + 1)\n",
    "    else:\n",
    "        file_id = '0' + str(i // 6 + 1) + '-' + '0' + str(i % 6 + 1)\n",
    "    if file_id == '06-02':\n",
    "        continue\n",
    "    print('执行命令：', '!cp -r ./pure_reorg/' + file_id + ' PURE_SPLIT/train')\n",
    "    !cp -r ./pure_reorg/{file_id}  PURE_SPLIT/train\n",
    "print('test data')\n",
    "for i in test_data:\n",
    "    if i // 6 == 9:\n",
    "        file_id = '10-' + '0' + str(i % 6 + 1)\n",
    "    else:\n",
    "        file_id = '0' + str(i // 6 + 1) + '-' + '0' + str(i % 6 + 1)\n",
    "    if file_id == '06-02':\n",
    "        continue\n",
    "    print('执行命令：', '!cp -r ./pure_reorg/' + file_id + ' PURE_SPLIT/test')\n",
    "    !cp -r ./pure_reorg/{file_id} PURE_SPLIT/test\n",
    "\n",
    "print('valid data')\n",
    "for i in valid_data:\n",
    "    if i // 6 == 9:\n",
    "        file_id = '10-' + '0' + str(i % 6 + 1)\n",
    "    else:\n",
    "        file_id = '0' + str(i // 6 + 1) + '-' + '0' + str(i % 6 + 1)\n",
    "    if file_id == '06-02':\n",
    "        continue\n",
    "    print('执行命令：', '!cp -r ./pure_reorg/' + file_id + ' PURE_SPLIT/valid')\n",
    "    !cp -r ./pure_reorg/{file_id} PURE_SPLIT/val\n"
   ]
  },
  {
   "cell_type": "code",
   "execution_count": null,
   "id": "251e09c1-05ec-4006-9569-591daa030596",
   "metadata": {},
   "outputs": [],
   "source": []
  }
 ],
 "metadata": {
  "kernelspec": {
   "display_name": "Python 3 (ipykernel)",
   "language": "python",
   "name": "python3"
  },
  "language_info": {
   "codemirror_mode": {
    "name": "ipython",
    "version": 3
   },
   "file_extension": ".py",
   "mimetype": "text/x-python",
   "name": "python",
   "nbconvert_exporter": "python",
   "pygments_lexer": "ipython3",
   "version": "3.8.10"
  }
 },
 "nbformat": 4,
 "nbformat_minor": 5
}
